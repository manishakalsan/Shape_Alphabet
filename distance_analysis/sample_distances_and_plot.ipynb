{
 "cells": [
  {
   "cell_type": "code",
   "execution_count": 2,
   "id": "8ca30467-9e1b-4896-9b90-f081f8762241",
   "metadata": {},
   "outputs": [],
   "source": [
    "import pandas as pd\n",
    "import seaborn as sns\n",
    "import matplotlib.pyplot as plt\n",
    "import os\n",
    "from scipy.stats import mannwhitneyu\n",
    "from scipy.stats import ttest_ind"
   ]
  },
  {
   "cell_type": "code",
   "execution_count": 3,
   "id": "252cb98a-2543-4a36-96a6-6e56b9619ca8",
   "metadata": {},
   "outputs": [],
   "source": [
    "def sample_distances(distance_file, n):\n",
    "    # Read only the 4th and 8th columns from the file\n",
    "    distances = pd.read_csv(distance_file, sep='\\t', usecols=[3, 7], header=None, names=['TF', 'Distance'])\n",
    "    \n",
    "    # Sample n or all, if less than n, instances\n",
    "    return distances.sample(n=min(n, len(distances)), random_state=1)\n"
   ]
  },
  {
   "cell_type": "code",
   "execution_count": 5,
   "id": "144bd6fa-8447-4ea6-a9a3-0b769b9a31ee",
   "metadata": {},
   "outputs": [],
   "source": [
    "def get_significance_stars(p_value):\n",
    "    \"\"\"\n",
    "    Return significance stars based on the p-value.\n",
    "    \"\"\"\n",
    "    if p_value <= 0.001:\n",
    "        return '***'\n",
    "    elif p_value <= 0.01:\n",
    "        return '**'\n",
    "    elif p_value <= 0.05:\n",
    "        return '*'\n",
    "    else:\n",
    "        return ''"
   ]
  },
  {
   "cell_type": "code",
   "execution_count": 6,
   "id": "0031b27a-85f0-4e90-a346-c9558e62b0a8",
   "metadata": {},
   "outputs": [],
   "source": [
    "def add_stat_annotation(ax, x1, x2, y, p_value, significance_stars, col_name):\n",
    "    \"\"\"\n",
    "    Add a line and significance stars between two boxes on the plot.\n",
    "    \"\"\"\n",
    "    line_y = y + 0.05 * y  # Offset for line above the box\n",
    "    ax.plot([x1, x1, x2, x2], [y, line_y, line_y, y], lw=1.5, color='black')\n",
    "    ax.text((x1 + x2) * 0.5, line_y, significance_stars, ha='center', va='bottom', color=col_name, fontsize=12)\n"
   ]
  },
  {
   "cell_type": "code",
   "execution_count": 29,
   "id": "50268a99-6d56-433e-a5d7-536d938b23d9",
   "metadata": {},
   "outputs": [],
   "source": [
    "def plot_distances(sampled_data, tf_preferences, output_folder, plot_type='boxplot'):\n",
    "    \"\"\"\n",
    "    Plot distributions of distances for TFs, colored by their class, with p-value annotations.\n",
    "\n",
    "    Parameters:\n",
    "    - sampled_data: DataFrame containing the distances with TFs and their classes.\n",
    "    - tf_preferences: DataFrame containing TF preferences and their corresponding classes.\n",
    "    - output_folder: Path to the folder where the plots will be saved.\n",
    "    - plot_type: Type of plot to create ('boxplot' or 'violinplot').\n",
    "    \"\"\"\n",
    "    # Rename Class column in tf_preferences for clarity\n",
    "    tf_preferences = tf_preferences.rename(columns={'Class': 'Class_from_pref'})\n",
    "\n",
    "    # Merge sampled_data with tf_preferences to get the group (Class) information\n",
    "    merged_data = sampled_data.merge(tf_preferences[['TF', 'Class_from_pref']], on='TF', how='left')\n",
    "\n",
    "    # Ensure the output folder exists\n",
    "    os.makedirs(output_folder, exist_ok=True)\n",
    "\n",
    "    # Plotting\n",
    "    plt.figure(figsize=(10, 10))\n",
    "    ax = plt.gca()\n",
    "\n",
    "    sns.boxplot(x='Class_from_pref', y='Distance', hue='Class_from_pref', data=merged_data, palette='Set2', showfliers=False)\n",
    "\n",
    "    # Perform statistical tests and annotate with p-values\n",
    "    unique_groups = merged_data['Class_from_pref'].unique()\n",
    "\n",
    "    # add the box positions according to unique preference classes\n",
    "    uniq_classes = []\n",
    "    box_positions = [0, 1, 2 ] \n",
    "    y_group = merged_data['Distance'].max() / 35\n",
    "    gap_increment = (y_group / 10)  \n",
    "\n",
    "    current_y = y_group\n",
    "    for i, g1 in enumerate(unique_groups):\n",
    "        for j, g2 in enumerate(unique_groups):\n",
    "            if i < j:  # Compare each pair of TFs only once\n",
    "                g1_data = merged_data[merged_data['Class_from_pref'] == g1]\n",
    "                g2_data = merged_data[merged_data['Class_from_pref'] == g2]\n",
    "                \n",
    "                g1_distances = g1_data['Distance']\n",
    "                g2_distances = g2_data['Distance']\n",
    "\n",
    "                # Perform t-test\n",
    "                stat, p_value = ttest_ind(g1_distances, g2_distances, equal_var=False)\n",
    "\n",
    "                # Get significance stars based on p-value\n",
    "                stars = get_significance_stars(p_value)\n",
    "                if stars:  # Only annotate significant comparisons\n",
    "                    add_stat_annotation(ax, box_positions[i], box_positions[j], current_y, p_value, stars, \"red\")\n",
    "                    current_y += gap_increment\n",
    "\n",
    "    plt.title(f'Class-wise Distribution of Distances ({plot_type.capitalize()})')\n",
    "    ax.set_xlabel('Preference Class', fontsize=16)  # X-axis label font size\n",
    "    ax.set_ylabel('Distance', fontsize=16)  # Y-axis label font size\n",
    "\n",
    "    # Adjust tick label font size\n",
    "    ax.tick_params(axis='x', labelsize=14)  # X-axis tick labels font size\n",
    "    ax.tick_params(axis='y', labelsize=14)\n",
    "    plt.xticks(rotation=60, ha='right')\n",
    "\n",
    "    # Save the figure\n",
    "    plt.savefig(os.path.join(output_folder, f'TF_distribution_{plot_type}.png'), bbox_inches=\"tight\", dpi=600)\n",
    "    plt.close()\n",
    "\n",
    "    print(f'{plot_type.capitalize()} plot saved to {output_folder}')"
   ]
  },
  {
   "cell_type": "code",
   "execution_count": 9,
   "id": "ad4114c9-41c1-432d-b85b-cf4c38215c3f",
   "metadata": {},
   "outputs": [],
   "source": [
    "def write_distance_statistics(sampled_data, tf_preferences, output_folder, n_instances, distance_type='first'):\n",
    "    \"\"\"\n",
    "    Write statistics of distances for groups of TFs to a text file.\n",
    "\n",
    "    Parameters:\n",
    "    - sampled_data: DataFrame containing the sampled distances with TFs and their classes.\n",
    "    - tf_preferences: DataFrame containing TF preferences and their corresponding classes.\n",
    "    - output_folder: Path to the folder where the statistics file will be saved.\n",
    "    - distance_type: Type of distances being analyzed ('first' or 'second').\n",
    "    \"\"\"\n",
    "    # Rename Class column in tf_preferences for clarity\n",
    "    tf_preferences = tf_preferences.rename(columns={'Class': 'Class_from_pref'})\n",
    "\n",
    "    # Merge sampled_data with tf_preferences to get the group (Class) information\n",
    "    merged_data = sampled_data.merge(tf_preferences[['TF', 'Class_from_pref']], on='TF', how='left')\n",
    "\n",
    "    # Ensure the output folder exists\n",
    "    os.makedirs(output_folder, exist_ok=True)\n",
    "\n",
    "    # Calculate statistics for each class\n",
    "    stats = merged_data.groupby('Class_from_pref')['Distance'].describe().reset_index()\n",
    "\n",
    "    # Rename columns for clarity\n",
    "    stats.rename(columns={\n",
    "        'count': 'Count',\n",
    "        'mean': 'Mean',\n",
    "        'std': 'StdDev',\n",
    "        'min': 'Min',\n",
    "        '25%': 'Q1',\n",
    "        '50%': 'Median',\n",
    "        '75%': 'Q3',\n",
    "        'max': 'Max'\n",
    "    }, inplace=True)\n",
    "\n",
    "    # Define output file name based on distance type\n",
    "    output_file = os.path.join(output_folder, f'{distance_type}_{n_instances}_distance_statistics.txt')\n",
    "\n",
    "    # Write the statistics to a text file\n",
    "    with open(output_file, 'w') as f:\n",
    "        f.write(stats.to_string(index=False))\n",
    "\n",
    "    print(f'Statistics for {distance_type} distances written to {output_file}')"
   ]
  },
  {
   "cell_type": "code",
   "execution_count": 18,
   "id": "dfc911fa-20d2-44cc-80a5-7c0791bf0417",
   "metadata": {},
   "outputs": [],
   "source": [
    "output_folder = '/home/manisha/Desktop/shape_clusters/GM12878/domains/' \n",
    "n = 10000  \n",
    "tf_preference_file = '/home/manisha/Desktop/shape_clusters/GM12878/tf_preference' \n",
    "first_distances_pattern = '{tf}_distances.txt' "
   ]
  },
  {
   "cell_type": "code",
   "execution_count": 17,
   "id": "05ddf17f-77c5-4807-b739-3fdb52cbf2c3",
   "metadata": {},
   "outputs": [],
   "source": [
    "plot_output_folder = '/home/manisha/Desktop/shape_clusters/GM12878/domains/tf_distance_plots/'\n",
    "os.makedirs(plot_output_folder, exist_ok=True)\n"
   ]
  },
  {
   "cell_type": "code",
   "execution_count": 14,
   "id": "b2a71c2e-7681-46ca-8313-999695276550",
   "metadata": {},
   "outputs": [],
   "source": [
    "tf_preferences = pd.read_csv(tf_preference_file, sep='\\t', header=None, names=['TF', 'Class'])"
   ]
  },
  {
   "cell_type": "code",
   "execution_count": 15,
   "id": "b53409b2-d2f0-4d61-b22c-2f5d25b65df5",
   "metadata": {},
   "outputs": [],
   "source": [
    "all_sampled_data_first = []\n",
    "summary_data = []"
   ]
  },
  {
   "cell_type": "code",
   "execution_count": 19,
   "id": "59cc7704-713c-4999-bc46-389ec46c1e09",
   "metadata": {},
   "outputs": [
    {
     "name": "stdout",
     "output_type": "stream",
     "text": [
      "Processing ARID3A\n",
      "Processing ARNT\n",
      "Processing ASH2L\n",
      "Processing ATF2\n",
      "Processing ATF3\n",
      "Processing ATF7\n",
      "Processing BACH1\n",
      "Processing BATF\n",
      "Processing BCL11A\n",
      "Processing BCL3\n",
      "Processing BCLAF1\n",
      "Processing BHLHE40\n",
      "Processing BMI1\n",
      "Processing BRCA1\n",
      "Processing CBFB\n",
      "Processing CBX5\n",
      "Processing CEBPB\n",
      "Processing CEBPZ\n",
      "Processing CHD1\n",
      "Processing CHD2\n",
      "Processing CHD4\n",
      "Processing CREB1\n",
      "Processing CREM\n",
      "Processing CTCF\n",
      "Processing CUX1\n",
      "Processing DPF2\n",
      "Processing E2F4\n",
      "Processing E2F8\n",
      "Processing E4F1\n",
      "Processing EBF1\n",
      "Processing EED\n",
      "Processing EGR1\n",
      "Processing ELF1\n",
      "Processing ELK1\n",
      "Processing EP300\n",
      "Processing ESRRA\n",
      "Processing ETS1\n",
      "Processing ETV6\n",
      "Processing EZH2\n",
      "Processing FOS\n",
      "Processing FOXK2\n",
      "Processing FOXM1\n",
      "Processing GABPA\n",
      "Processing GATAD2B\n",
      "Processing HCFC1\n",
      "Processing HDAC2\n",
      "Processing HDAC6\n",
      "Processing HDGF\n",
      "Processing HSF1\n",
      "Processing IKZF1\n",
      "Processing IKZF2\n",
      "Processing IRF3\n",
      "Processing IRF4\n",
      "Processing IRF5\n",
      "Processing JUNB\n",
      "Processing JUND\n",
      "Processing KLF5\n",
      "Processing LARP7\n",
      "Processing MAFK\n",
      "Processing MAX\n",
      "Processing MAZ\n",
      "Processing MEF2A\n",
      "Processing MEF2B\n",
      "Processing MEF2C\n",
      "Processing MLLT1\n",
      "Processing MTA2\n",
      "Processing MTA3\n",
      "Processing MXI1\n",
      "Processing MYB\n",
      "Processing MYC\n",
      "Processing NBN\n",
      "Processing NFATC1\n",
      "Processing NFATC3\n",
      "Processing NFIC\n",
      "Processing NFXL1\n",
      "Processing NFYA\n",
      "Processing NFYB\n",
      "Processing NKRF\n",
      "Processing NR2C1\n",
      "Processing NR2C2\n",
      "Processing NR2F1\n",
      "Processing NRF1\n",
      "Processing PAX5\n",
      "Processing PAX8\n",
      "Processing PBX3\n",
      "Processing PKNOX1\n",
      "Processing PML\n",
      "Processing POU2F2\n",
      "Processing RAD21\n",
      "Processing RAD51\n",
      "Processing RB1\n",
      "Processing RBBP5\n",
      "Processing RCOR1\n",
      "Processing RELA\n",
      "Processing RELB\n",
      "Processing REST\n",
      "Processing RFX5\n",
      "Processing RUNX3\n",
      "Processing RXRA\n",
      "Processing SIN3A\n",
      "Processing SIX5\n",
      "Processing SKIL\n",
      "Processing SMAD1\n",
      "Processing SMAD5\n",
      "Processing SMARCA5\n",
      "Processing SMC3\n",
      "Processing SP1\n",
      "Processing SPI1\n",
      "Processing SREBF1\n",
      "Processing SREBF2\n",
      "Processing SRF\n",
      "Processing STAT1\n",
      "Processing STAT3\n",
      "Processing STAT5A\n",
      "Processing SUZ12\n",
      "Processing TAF1\n",
      "Processing TARDBP\n",
      "Processing TBL1XR1\n",
      "Processing TBP\n",
      "Processing TBX21\n",
      "Processing TCF12\n",
      "Processing TCF3\n",
      "Processing TCF7\n",
      "Processing TRIM22\n",
      "Processing UBTF\n",
      "Processing USF1\n",
      "Processing USF2\n",
      "Processing WRNIP1\n",
      "Processing ZBED1\n",
      "Processing ZBTB33\n",
      "Processing ZBTB40\n",
      "Processing ZEB1\n",
      "Processing ZFP36\n",
      "Processing ZNF207\n",
      "Processing ZNF217\n",
      "Processing ZNF24\n",
      "Processing ZNF384\n",
      "Processing ZNF592\n",
      "Processing ZNF622\n",
      "Processing ZNF687\n",
      "Processing ZSCAN29\n",
      "Processing ZZZ3\n"
     ]
    }
   ],
   "source": [
    "# Loop through each TF and sample from their specific distance files\n",
    "for tf in tf_preferences['TF']:\n",
    "    print(f\"Processing {tf}\")\n",
    "\n",
    "    # Sample from the first distance file\n",
    "    first_distance_file = os.path.join(output_folder, first_distances_pattern.format(tf=tf.strip()))\n",
    "    sampled_first = sample_distances(first_distance_file, n)\n",
    "    sampled_first['TF'] = tf\n",
    "    sampled_first['Class'] = tf_preferences.loc[tf_preferences['TF'] == tf, 'Class'].values[0]\n",
    "    all_sampled_data_first.append(sampled_first)\n",
    "    \n",
    "    # Generate summary statistics\n",
    "    stats = sampled_first['Distance'].describe()\n",
    "\n",
    "    # Append the TF name, class, and stats to the summary data\n",
    "    summary_data.append([tf, sampled_first['Class'].iloc[0], *stats.values])\n",
    "    \n",
    "    summary_columns = ['TF', 'Class', 'count', 'mean', 'std', 'min', '25%', '50%', '75%', 'max']\n",
    "    summary_df = pd.DataFrame(summary_data, columns=summary_columns)\n",
    "    \n",
    "    all_sampled_data_first.append(sampled_first)\n"
   ]
  },
  {
   "cell_type": "code",
   "execution_count": 21,
   "id": "411de7e6-1350-47ad-b79b-f87d36a024d2",
   "metadata": {},
   "outputs": [
    {
     "name": "stdout",
     "output_type": "stream",
     "text": [
      "Statistics for tf distances written to /home/manisha/Desktop/shape_clusters/GM12878/domains/tf_distance_plots/domain_10000_statistics.txt\n"
     ]
    }
   ],
   "source": [
    "output_file = os.path.join(plot_output_folder, f'domain_{n}_statistics.txt')\n",
    "\n",
    "# Write the statistics to a text file\n",
    "with open(output_file, 'w') as f:\n",
    "    f.write(summary_df.to_string(index=False))\n",
    "\n",
    "print(f'Statistics for tf distances written to {output_file}')"
   ]
  },
  {
   "cell_type": "code",
   "execution_count": 22,
   "id": "703e53cc-83c7-4ab8-bd2b-315b0c017cae",
   "metadata": {},
   "outputs": [],
   "source": [
    "sampled_data_first = pd.concat(all_sampled_data_first)\n",
    "\n",
    "output_file = os.path.join(plot_output_folder, f'first_{n}_distance_sampled.txt')\n",
    "\n",
    "# Write the statistics to a text file\n",
    "with open(output_file, 'w') as f:\n",
    "    f.write(sampled_data_first.to_string(index=False))\n"
   ]
  },
  {
   "cell_type": "code",
   "execution_count": 23,
   "id": "88f1e703-cee1-40e2-ad0c-c6c92811df4f",
   "metadata": {},
   "outputs": [
    {
     "name": "stdout",
     "output_type": "stream",
     "text": [
      "          TF Class_from_pref\n",
      "137   ZNF592      NotDefined\n",
      "138   ZNF622      NotDefined\n",
      "139   ZNF687      NotDefined\n",
      "140  ZSCAN29      NotDefined\n",
      "141     ZZZ3           Shape\n",
      "            TF  Distance       Class\n",
      "73974   ARID3A     57885  NotDefined\n",
      "356096  ARID3A      1837  NotDefined\n",
      "332626  ARID3A     47838  NotDefined\n",
      "205522  ARID3A     93945  NotDefined\n",
      "245896  ARID3A     89015  NotDefined\n"
     ]
    }
   ],
   "source": [
    "print(tf_preferences.tail())\n",
    "\n",
    "print(sampled_data_first.head())"
   ]
  },
  {
   "cell_type": "code",
   "execution_count": 24,
   "id": "0371d5b3-66cd-42ce-8c95-34ec43d11ff9",
   "metadata": {},
   "outputs": [],
   "source": [
    "# Rename Class column in tf_preferences for clarity\n",
    "tf_preferences = tf_preferences.rename(columns={'Class': 'Class_from_pref'})\n",
    "\n",
    "sampled_data = sampled_data_first\n",
    "\n",
    "# Merge sampled_data with tf_preferences to get the group (Class) information\n",
    "merged_data = sampled_data.merge(tf_preferences[['TF', 'Class_from_pref']], on='TF', how='left')"
   ]
  },
  {
   "cell_type": "code",
   "execution_count": 28,
   "id": "e465f9bd-b7fe-4a20-9c5c-f282f8ea0317",
   "metadata": {},
   "outputs": [
    {
     "data": {
      "text/plain": [
       "([0, 1], [Text(0, 0, 'NotDefined'), Text(1, 0, 'Shape')])"
      ]
     },
     "execution_count": 28,
     "metadata": {},
     "output_type": "execute_result"
    },
    {
     "data": {
      "image/png": "[encoded data removed]",
      "text/plain": [
       "<Figure size 1500x1000 with 1 Axes>"
      ]
     },
     "metadata": {},
     "output_type": "display_data"
    }
   ],
   "source": [
    "    # Plotting\n",
    "    plt.figure(figsize=(15, 10))\n",
    "    ax = plt.gca()\n",
    "\n",
    "    sns.boxplot(x='Class_from_pref', y='Distance', hue='Class_from_pref', data=merged_data, palette='Set2', showfliers=False)\n",
    "\n",
    "    # Perform statistical tests and annotate with p-values\n",
    "    unique_groups = merged_data['Class_from_pref'].unique()\n",
    "    box_positions = [0, 1, 2] \n",
    "    y_group = merged_data['Distance'].max() / 35\n",
    "    gap_increment = (y_group / 10) \n",
    "\n",
    "    current_y = y_group\n",
    "    for i, g1 in enumerate(unique_groups):\n",
    "        for j, g2 in enumerate(unique_groups):\n",
    "            if i < j:  # Compare each pair of TFs only once\n",
    "                g1_data = merged_data[merged_data['Class_from_pref'] == g1]\n",
    "                g2_data = merged_data[merged_data['Class_from_pref'] == g2]\n",
    "                \n",
    "                g1_distances = g1_data['Distance']\n",
    "                g2_distances = g2_data['Distance']\n",
    "\n",
    "                # Perform t-test\n",
    "                stat, p_value = ttest_ind(g1_distances, g2_distances, equal_var=False)\n",
    "\n",
    "                # Get significance stars based on p-value\n",
    "                stars = get_significance_stars(p_value)\n",
    "                if stars:  # Only annotate significant comparisons\n",
    "                    add_stat_annotation(ax, box_positions[i], box_positions[j], current_y, p_value, stars, \"red\")\n",
    "                    current_y += gap_increment\n",
    "\n",
    "    plt.title(f'Class-wise Distribution of Distances')\n",
    "    ax.set_xlabel('Preference Class', fontsize=16)  # X-axis label font size\n",
    "    ax.set_ylabel('Distance', fontsize=16)  # Y-axis label font size\n",
    "\n",
    "    # Adjust tick label font size\n",
    "    ax.tick_params(axis='x', labelsize=14)  # X-axis tick labels font size\n",
    "    ax.tick_params(axis='y', labelsize=14)\n",
    "    plt.xticks(rotation=60, ha='right')"
   ]
  },
  {
   "cell_type": "code",
   "execution_count": 25,
   "id": "69865eba-12a6-4f9a-b879-e0cb5c2e5383",
   "metadata": {},
   "outputs": [
    {
     "data": {
      "text/plain": [
       "51643.0"
      ]
     },
     "execution_count": 25,
     "metadata": {},
     "output_type": "execute_result"
    }
   ],
   "source": [
    "merged_data['Distance'].median() "
   ]
  },
  {
   "cell_type": "code",
   "execution_count": 30,
   "id": "a7bd4586-e395-41be-ac4d-2f5fc2252a3f",
   "metadata": {},
   "outputs": [
    {
     "name": "stdout",
     "output_type": "stream",
     "text": [
      "Domain regions plot saved to /home/manisha/Desktop/shape_clusters/GM12878/domains/tf_distance_plots/\n"
     ]
    }
   ],
   "source": [
    "plot_distances(sampled_data_first, tf_preferences, plot_output_folder, 'Domain regions')"
   ]
  },
  {
   "cell_type": "code",
   "execution_count": 31,
   "id": "f5989958-a8dd-4296-8696-f845d7f980fd",
   "metadata": {},
   "outputs": [
    {
     "name": "stdout",
     "output_type": "stream",
     "text": [
      "Statistics for first distances written to /home/manisha/Desktop/shape_clusters/GM12878/domains/tf_distance_plots/first_10000_distance_statistics.txt\n"
     ]
    }
   ],
   "source": [
    "write_distance_statistics(sampled_data_first, tf_preferences, plot_output_folder, distance_type='first', n_instances=n)"
   ]
  }
 ],
 "metadata": {
  "kernelspec": {
   "display_name": "Python 3 (ipykernel)",
   "language": "python",
   "name": "python3"
  },
  "language_info": {
   "codemirror_mode": {
    "name": "ipython",
    "version": 3
   },
   "file_extension": ".py",
   "mimetype": "text/x-python",
   "name": "python",
   "nbconvert_exporter": "python",
   "pygments_lexer": "ipython3",
   "version": "3.10.14"
  }
 },
 "nbformat": 4,
 "nbformat_minor": 5
}
