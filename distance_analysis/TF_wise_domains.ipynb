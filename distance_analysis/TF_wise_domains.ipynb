{
 "cells": [
  {
   "cell_type": "code",
   "execution_count": 1,
   "id": "89261c8d-6e4b-44af-b149-8f51a68ed1ff",
   "metadata": {},
   "outputs": [],
   "source": [
    "import pandas as pd\n",
    "import seaborn as sns\n",
    "import matplotlib.pyplot as plt\n",
    "import os\n",
    "from scipy.stats import mannwhitneyu\n",
    "from scipy.stats import ttest_ind"
   ]
  },
  {
   "cell_type": "code",
   "execution_count": 2,
   "id": "6fde5d1f-4d54-436b-9e72-35d0088fd1c0",
   "metadata": {},
   "outputs": [],
   "source": [
    "def get_significance_stars(p_value):\n",
    "    \"\"\"\n",
    "    Return significance stars based on the p-value.\n",
    "    \"\"\"\n",
    "    if p_value <= 0.001:\n",
    "        return '***'\n",
    "    elif p_value <= 0.01:\n",
    "        return '**'\n",
    "    elif p_value <= 0.05:\n",
    "        return '*'\n",
    "    else:\n",
    "        return ''"
   ]
  },
  {
   "cell_type": "code",
   "execution_count": 3,
   "id": "c174e0a0-28f8-4969-89b7-a695eee23c0b",
   "metadata": {},
   "outputs": [],
   "source": [
    "def add_stat_annotation(ax, x1, x2, y, p_value, significance_stars, col_name):\n",
    "    \"\"\"\n",
    "    Add a line and significance stars between two boxes on the plot.\n",
    "    \"\"\"\n",
    "    line_y = y + 0.05 * y  # Offset for line above the box\n",
    "    ax.plot([x1, x1, x2, x2], [y, line_y, line_y, y], lw=1.5, color='black')\n",
    "    ax.text((x1 + x2) * 0.5, line_y, significance_stars, ha='center', va='bottom', color=col_name, fontsize=12)\n"
   ]
  },
  {
   "cell_type": "code",
   "execution_count": 4,
   "id": "dd042838-9bbf-4889-94e5-76ee85323c6a",
   "metadata": {},
   "outputs": [],
   "source": [
    "def plot_tf_distributions(sampled_data, tf_preferences, output_folder, plot_type='boxplot'):\n",
    "    \"\"\"\n",
    "    Plot distributions of distances for TFs, colored by their class, with p-value annotations.\n",
    "\n",
    "    Parameters:\n",
    "    - sampled_data: DataFrame containing the distances with TFs and their classes.\n",
    "    - tf_preferences: DataFrame containing TF preferences and their corresponding classes.\n",
    "    - output_folder: Path to the folder where the plots will be saved.\n",
    "    - plot_type: Type of plot to create ('boxplot' or 'violinplot').\n",
    "    \"\"\"\n",
    "    # Rename Class column in tf_preferences for clarity\n",
    "    tf_preferences = tf_preferences.rename(columns={'Class': 'Class_from_pref'})\n",
    "\n",
    "    # Merge sampled_data with tf_preferences to get the group (Class) information\n",
    "    merged_data = sampled_data.merge(tf_preferences[['TF', 'Class_from_pref']], on='TF', how='left')\n",
    "\n",
    "    # Ensure the output folder exists\n",
    "    os.makedirs(output_folder, exist_ok=True)\n",
    "\n",
    "    # Plotting\n",
    "    plt.figure(figsize=(15, 10))\n",
    "    ax = plt.gca()\n",
    "\n",
    "    sns.boxplot(x='TF', y='Distance', hue='Class_from_pref', data=merged_data, palette='Set2', showfliers=False)\n",
    "\n",
    "    # Perform statistical tests and annotate with p-values\n",
    "    unique_groups = merged_data['Class_from_pref'].unique()\n",
    "    box_positions = [0, 7, 10] \n",
    "    y_group = merged_data['Distance'].max() / 100\n",
    "    gap_increment = (y_group / 10)\n",
    "\n",
    "    current_y = y_group\n",
    "    for i, g1 in enumerate(unique_groups):\n",
    "        for j, g2 in enumerate(unique_groups):\n",
    "            if i < j:  # Compare each pair of TFs only once\n",
    "                g1_data = merged_data[merged_data['Class_from_pref'] == g1]\n",
    "                g2_data = merged_data[merged_data['Class_from_pref'] == g2]\n",
    "                \n",
    "                g1_distances = g1_data['Distance']\n",
    "                g2_distances = g2_data['Distance']\n",
    "\n",
    "                # Perform t-test\n",
    "                stat, p_value = ttest_ind(g1_distances, g2_distances, equal_var=False)\n",
    "\n",
    "                # Get significance stars based on p-value\n",
    "                stars = get_significance_stars(p_value)\n",
    "                if stars:  # Only annotate significant comparisons\n",
    "                    add_stat_annotation(ax, box_positions[i], box_positions[j], current_y, p_value, stars, \"red\")\n",
    "                    current_y += gap_increment\n",
    "                \n",
    "                unique_tfs_g1 = g1_data['TF'].unique()\n",
    "                unique_tfs_g2 = g2_data['TF'].unique()\n",
    "                y_max_tf = merged_data['Distance'].median() * 8  # Adjust to be a bit above the max value\n",
    "                box_positions_g1 = range(len(unique_tfs_g1))  \n",
    "                box_positions_g2 = range(len(unique_tfs_g1), len(unique_tfs_g1) + len(unique_tfs_g2))\n",
    "                gap_increment_tf = (y_max_tf * 0.5) \n",
    "\n",
    "                # TF-TF wise p-values\n",
    "                current_y = y_max_tf\n",
    "                for k, tf1 in enumerate(unique_tfs_g1):\n",
    "                    for l, tf2 in enumerate(unique_tfs_g1):\n",
    "                        if k < l:  # Compare each pair of TFs only once\n",
    "                            tf1_distances = g1_data[g1_data['TF'] == tf1]['Distance']\n",
    "                            tf2_distances = g1_data[g1_data['TF'] == tf2]['Distance']\n",
    "\n",
    "                            stat, p_value = ttest_ind(tf1_distances, tf2_distances, equal_var=False)\n",
    "\n",
    "                            stars = get_significance_stars(p_value)\n",
    "\n",
    "                            if stars:  \n",
    "                                # x_pos = (i + j) / 2  # Average position between two TFs\n",
    "                                # plt.text(x=x_pos, y=y_max, s=stars, ha='center', va='bottom', fontsize=14, color='red')\n",
    "                                add_stat_annotation(ax, box_positions_g1[k], box_positions_g1[l], current_y, p_value, stars, \"black\")\n",
    "                                current_y += gap_increment\n",
    "\n",
    "                current_y = y_max_tf\n",
    "                for k, tf1 in enumerate(unique_tfs_g2):\n",
    "                    for l, tf2 in enumerate(unique_tfs_g2):\n",
    "                        if k < l:  # Compare each pair of TFs only once\n",
    "                            tf1_distances = g2_data[g2_data['TF'] == tf1]['Distance']\n",
    "                            tf2_distances = g2_data[g2_data['TF'] == tf2]['Distance']\n",
    "\n",
    "                            stat, p_value = ttest_ind(tf1_distances, tf2_distances, equal_var=False)\n",
    "\n",
    "                            stars = get_significance_stars(p_value)\n",
    "\n",
    "                            if stars:  # Only annotate significant comparisons\n",
    "                                add_stat_annotation(ax, box_positions_g2[k], box_positions_g2[l], current_y, p_value, stars, \"black\")\n",
    "                                current_y += gap_increment\n",
    "\n",
    "    plt.title(f'TF-wise Distribution of Distances ({plot_type.capitalize()})')\n",
    "    ax.set_xlabel('Transcription Factors (TF)', fontsize=16)  # X-axis label font size\n",
    "    ax.set_ylabel('Distance', fontsize=16)  # Y-axis label font size\n",
    "\n",
    "    # Adjust tick label font size\n",
    "    ax.tick_params(axis='x', labelsize=14)  # X-axis tick labels font size\n",
    "    ax.tick_params(axis='y', labelsize=14)\n",
    "    plt.xticks(rotation=60, ha='right')\n",
    "\n",
    "    # Save the figure\n",
    "    plt.savefig(os.path.join(output_folder, f'TF_wise_distribution_{plot_type}.png'), bbox_inches=\"tight\", dpi=600)\n",
    "    plt.close()\n",
    "\n",
    "    print(f'{plot_type.capitalize()} plot saved to {output_folder}')\n",
    "\n"
   ]
  },
  {
   "cell_type": "code",
   "execution_count": 5,
   "id": "3f68366a-aca8-4de5-91c2-2ee8f198722f",
   "metadata": {},
   "outputs": [],
   "source": [
    "def plot_tf_distributions_without_sig(sampled_data, tf_preferences, output_folder, plot_type='boxplot', sort_by='mean'):\n",
    "    \"\"\"\n",
    "    Plot distributions of distances for TFs, colored by their class, sorted by mean or max of distributions.\n",
    "\n",
    "    Parameters:\n",
    "    - sampled_data: DataFrame containing the distances with TFs and their classes.\n",
    "    - tf_preferences: DataFrame containing TF preferences and their corresponding classes.\n",
    "    - output_folder: Path to the folder where the plots will be saved.\n",
    "    - plot_type: Type of plot to create ('boxplot' or 'violinplot').\n",
    "    - sort_by: Statistic to sort by ('mean' or 'max').\n",
    "    \"\"\"\n",
    "    # Rename Class column in tf_preferences for clarity\n",
    "    tf_preferences = tf_preferences.rename(columns={'Class': 'Class_from_pref'})\n",
    "\n",
    "    # Merge sampled_data with tf_preferences to get the group (Class) information\n",
    "    merged_data = sampled_data.merge(tf_preferences[['TF', 'Class_from_pref']], on='TF', how='left')\n",
    "\n",
    "    # Calculate the mean or max distance per TF for sorting\n",
    "    if sort_by == 'mean':\n",
    "        tf_order = merged_data.groupby('TF')['Distance'].mean().sort_values().index\n",
    "    elif sort_by == 'max':\n",
    "        tf_order = merged_data.groupby('TF')['Distance'].max().sort_values().index\n",
    "    else:\n",
    "        raise ValueError(\"sort_by parameter should be either 'mean' or 'max'\")\n",
    "\n",
    "    # Ensure the output folder exists\n",
    "    os.makedirs(output_folder, exist_ok=True)\n",
    "\n",
    "    # Plotting\n",
    "    plt.figure(figsize=(15, 10))\n",
    "    ax = plt.gca()\n",
    "\n",
    "    sns.boxplot(x='TF', y='Distance', hue='Class_from_pref', data=merged_data, \n",
    "                palette='Set2', showfliers=False, order=tf_order)\n",
    "\n",
    "    plt.title(f'TF-wise Distribution of Distances (Sorted by {sort_by.capitalize()})')\n",
    "    ax.set_xlabel('Transcription Factors (TF)', fontsize=16)  # X-axis label font size\n",
    "    ax.set_ylabel('Distance', fontsize=16)  # Y-axis label font size\n",
    "\n",
    "    # Adjust tick label font size\n",
    "    ax.tick_params(axis='x', labelsize=14)  # X-axis tick labels font size\n",
    "    ax.tick_params(axis='y', labelsize=14)\n",
    "    plt.xticks(rotation=60, ha='right')\n",
    "\n",
    "    # Save the figure\n",
    "    plt.savefig(os.path.join(output_folder, f'TF_wise_distribution_sorted_by_{sort_by}_{plot_type}.png'), \n",
    "                bbox_inches=\"tight\", dpi=600)\n",
    "    plt.close()\n",
    "\n",
    "    print(f'{plot_type.capitalize()} plot saved to {output_folder}')\n",
    "\n",
    "# Example usage\n",
    "# plot_tf_distributions_without_sig(sampled_data, tf_preferences, 'output_folder_path', plot_type='boxplot', sort_by='mean')\n"
   ]
  },
  {
   "cell_type": "code",
   "execution_count": 6,
   "id": "143b48cc-1be0-457a-aff0-505c1ead1788",
   "metadata": {},
   "outputs": [],
   "source": [
    "def sample_distances(distance_file):\n",
    "    # Read only the 4th and 8th columns from the file\n",
    "    distances = pd.read_csv(distance_file, sep='\\t', usecols=[3, 7], header=None, names=['TF', 'Distance'])\n",
    "    \n",
    "    return distances\n"
   ]
  },
  {
   "cell_type": "code",
   "execution_count": 7,
   "id": "94c69e8a-b8a7-45c9-8656-c68fe8a1be7d",
   "metadata": {},
   "outputs": [],
   "source": [
    "def write_tf_statistics(sampled_data, output_folder, tf, n_instances):\n",
    "    \"\"\"\n",
    "    Write statistics of distances for a TF to a text file.\n",
    "    \n",
    "    \"\"\"\n",
    "    # Ensure the output folder exists\n",
    "    os.makedirs(output_folder, exist_ok=True)\n",
    "\n",
    "    # Calculate statistics for each class\n",
    "    stats = sampled_data[sampled_data['TF'] == tf,'Distance'].describe()\n",
    "\n",
    "    # Rename columns for clarity\n",
    "    stats.rename(columns={\n",
    "        'count': 'Count',\n",
    "        'mean': 'Mean',\n",
    "        'std': 'StdDev',\n",
    "        'min': 'Min',\n",
    "        '25%': 'Q1',\n",
    "        '50%': 'Median',\n",
    "        '75%': 'Q3',\n",
    "        'max': 'Max'\n",
    "    }, inplace=True)\n",
    "\n",
    "    # Define output file name based on distance type\n",
    "    output_file = os.path.join(output_folder, f'{tf}_statistics.txt')\n",
    "\n",
    "    # Write the statistics to a text file\n",
    "    with open(output_file, 'w') as f:\n",
    "        f.write(stats.to_string(index=False))\n",
    "\n",
    "    print(f'Statistics for {tf} distances written to {output_file}')"
   ]
  },
  {
   "cell_type": "code",
   "execution_count": 14,
   "id": "663a6143-98d8-4094-b00b-bfdb286086dc",
   "metadata": {},
   "outputs": [],
   "source": [
    "output_folder = '/home/manisha/Desktop/shape_clusters/hepg2/raw_bed/distances/domains/' \n",
    "n = 10000  \n",
    "tf_preference_file = '/home/manisha/Desktop/shape_clusters/hepg2/raw_bed/distances/domains/domain_dist/tf_preference_subset' \n",
    "first_distances_pattern = '{tf}_distances.txt' \n",
    "\n",
    "plot_output_folder = '/home/manisha/Desktop/shape_clusters/hepg2/raw_bed/distances/domains/domain_dist/'\n",
    "os.makedirs(plot_output_folder, exist_ok=True)\n"
   ]
  },
  {
   "cell_type": "code",
   "execution_count": 15,
   "id": "d95d8019-70ef-402d-8e15-90ab8af3f2e3",
   "metadata": {},
   "outputs": [],
   "source": [
    "tf_preferences = pd.read_csv(tf_preference_file, sep='\\t', header=None, names=['TF', 'Class'])"
   ]
  },
  {
   "cell_type": "code",
   "execution_count": 16,
   "id": "8cd0b219-37ed-437a-882f-2607c354b3e1",
   "metadata": {},
   "outputs": [
    {
     "name": "stdout",
     "output_type": "stream",
     "text": [
      "Processing ATF2\n",
      "Processing CEBPB\n",
      "Processing CTCF\n",
      "Processing IKZF1\n",
      "Processing RAD21\n",
      "Processing YBX1\n",
      "Processing ZNF207\n",
      "Processing NR2C2\n"
     ]
    }
   ],
   "source": [
    "all_sampled_data_first = []\n",
    "summary_data = []\n",
    "# Loop through each TF and sample from their specific distance files\n",
    "for tf in tf_preferences['TF']:\n",
    "    print(f\"Processing {tf}\")\n",
    "\n",
    "    first_distance_file = os.path.join(output_folder, first_distances_pattern.format(tf=tf.strip()))\n",
    "    sampled_first = sample_distances(first_distance_file)\n",
    "    sampled_first['TF'] = tf\n",
    "    sampled_first['Class'] = tf_preferences.loc[tf_preferences['TF'] == tf, 'Class'].values[0]\n",
    "\n",
    "    # print(sampled_first.head())\n",
    "\n",
    "    # Generate summary statistics\n",
    "    stats = sampled_first['Distance'].describe()\n",
    "\n",
    "    # Append the TF name, class, and stats to the summary data\n",
    "    summary_data.append([tf, sampled_first['Class'].iloc[0], *stats.values])\n",
    "    \n",
    "    summary_columns = ['TF', 'Class', 'count', 'mean', 'std', 'min', '25%', '50%', '75%', 'max']\n",
    "    summary_df = pd.DataFrame(summary_data, columns=summary_columns)\n",
    "    \n",
    "    all_sampled_data_first.append(sampled_first)"
   ]
  },
  {
   "cell_type": "code",
   "execution_count": 17,
   "id": "c1468ede-44da-47bf-873f-beb8df50aa34",
   "metadata": {},
   "outputs": [
    {
     "name": "stdout",
     "output_type": "stream",
     "text": [
      "       TF     Class    count           mean           std  min       25%  \\\n",
      "0    ATF2     Shape  49078.0  209405.287583  3.711365e+05 -1.0  32333.00   \n",
      "1   CEBPB     Shape  57578.0  116238.045000  2.216520e+05  0.0  18350.00   \n",
      "2    CTCF     Shape  67504.0   88274.892066  1.933372e+05  0.0   1634.75   \n",
      "3   IKZF1     Shape   1781.0  261328.576642  1.195111e+06  0.0  21537.00   \n",
      "4   RAD21     Shape  52102.0   76841.996526  1.610973e+05 -1.0      0.00   \n",
      "5    YBX1     Shape   2832.0  187924.974576  8.930782e+05  0.0  20159.50   \n",
      "6  ZNF207     Shape   1788.0  171330.942394  9.613023e+05 -1.0  12302.75   \n",
      "7   NR2C2  Sequence   1750.0  111000.818857  2.396941e+05  0.0  17676.00   \n",
      "\n",
      "       50%        75%         max  \n",
      "0  92042.5  226948.00   8997878.0  \n",
      "1  53779.0  125881.75   6596346.0  \n",
      "2  35247.5  100108.50   9126064.0  \n",
      "3  58018.0  159417.00  35485564.0  \n",
      "4  28632.0   88699.00   5634155.0  \n",
      "5  56598.5  145640.25  35485555.0  \n",
      "6  43917.0  118940.50  35507196.0  \n",
      "7  51292.5  125578.00   4255371.0  \n"
     ]
    }
   ],
   "source": [
    "print(summary_df)\n"
   ]
  },
  {
   "cell_type": "code",
   "execution_count": 22,
   "id": "c556609e-1bda-4f68-b168-5d63a67c5df3",
   "metadata": {},
   "outputs": [],
   "source": [
    "sampled_data_first = pd.concat(all_sampled_data_first)\n"
   ]
  },
  {
   "cell_type": "code",
   "execution_count": 23,
   "id": "50c6a57e-1049-4d36-bd83-dc03ee89f35b",
   "metadata": {},
   "outputs": [
    {
     "name": "stdout",
     "output_type": "stream",
     "text": [
      "Boxplot plot saved to /home/manisha/Desktop/shape_clusters/hepg2/raw_bed/distances/domains/domain_dist/\n"
     ]
    }
   ],
   "source": [
    "plot_tf_distributions(sampled_data_first, tf_preferences, plot_output_folder )\n"
   ]
  },
  {
   "cell_type": "code",
   "execution_count": 20,
   "id": "19d5086d-feab-4d2f-9912-728951a181c0",
   "metadata": {},
   "outputs": [
    {
     "name": "stdout",
     "output_type": "stream",
     "text": [
      "Boxplot plot saved to /home/manisha/Desktop/shape_clusters/hepg2/raw_bed/distances/domains/domain_dist/\n"
     ]
    }
   ],
   "source": [
    "plot_tf_distributions_without_sig(sampled_data_first, tf_preferences, plot_output_folder , sort_by = \"mean\")\n"
   ]
  },
  {
   "cell_type": "code",
   "execution_count": 24,
   "id": "f26cc5f3-792a-4f67-8e4a-2dc4a79e3693",
   "metadata": {},
   "outputs": [],
   "source": [
    "output_file = os.path.join(plot_output_folder, f'{n}_distance_sampled.txt')\n",
    "\n",
    "# Write the statistics to a text file\n",
    "with open(output_file, 'w') as f:\n",
    "    f.write(sampled_data_first.to_string(index=False))\n"
   ]
  },
  {
   "cell_type": "code",
   "execution_count": null,
   "id": "d135faa6-640a-4dfc-87af-a773ed2af8c2",
   "metadata": {},
   "outputs": [],
   "source": []
  }
 ],
 "metadata": {
  "kernelspec": {
   "display_name": "Python 3 (ipykernel)",
   "language": "python",
   "name": "python3"
  },
  "language_info": {
   "codemirror_mode": {
    "name": "ipython",
    "version": 3
   },
   "file_extension": ".py",
   "mimetype": "text/x-python",
   "name": "python",
   "nbconvert_exporter": "python",
   "pygments_lexer": "ipython3",
   "version": "3.10.14"
  }
 },
 "nbformat": 4,
 "nbformat_minor": 5
}
